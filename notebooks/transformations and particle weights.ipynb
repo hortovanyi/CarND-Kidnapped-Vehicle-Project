{
 "cells": [
  {
   "cell_type": "code",
   "execution_count": 2,
   "metadata": {
    "collapsed": true
   },
   "outputs": [],
   "source": [
    "import math\n",
    "import numpy as np"
   ]
  },
  {
   "cell_type": "code",
   "execution_count": 3,
   "metadata": {
    "collapsed": true
   },
   "outputs": [],
   "source": [
    "def transform_observation(p_x, p_y, p_theta, o_x, o_y):\n",
    "    #(o_y, o_x) = (o_x, o_y)\n",
    "    x = o_x * math.cos(p_theta) - o_y * math.sin(p_theta) + p_x\n",
    "    y = o_x * math.sin(p_theta) + o_y * math.cos(p_theta) + p_y\n",
    "    return (x,y)"
   ]
  },
  {
   "cell_type": "code",
   "execution_count": 4,
   "metadata": {},
   "outputs": [
    {
     "data": {
      "text/plain": [
       "(6.0, 3.0)"
      ]
     },
     "execution_count": 4,
     "metadata": {},
     "output_type": "execute_result"
    }
   ],
   "source": [
    "p_x=4\n",
    "p_y=5\n",
    "p_theta= -math.pi/2 # -90 degrees\n",
    "o_x=2\n",
    "o_y=2\n",
    "transform_observation(p_x, p_y, p_theta, o_x,o_y)"
   ]
  },
  {
   "cell_type": "code",
   "execution_count": 5,
   "metadata": {},
   "outputs": [
    {
     "data": {
      "text/plain": [
       "(2.0, 2.0)"
      ]
     },
     "execution_count": 5,
     "metadata": {},
     "output_type": "execute_result"
    }
   ],
   "source": [
    "o_x=3\n",
    "o_y=-2\n",
    "transform_observation(p_x, p_y, p_theta, o_x,o_y)"
   ]
  },
  {
   "cell_type": "code",
   "execution_count": 6,
   "metadata": {},
   "outputs": [
    {
     "data": {
      "text/plain": [
       "(0.0, 5.0)"
      ]
     },
     "execution_count": 6,
     "metadata": {},
     "output_type": "execute_result"
    }
   ],
   "source": [
    "o_x=0\n",
    "o_y=-4\n",
    "transform_observation(p_x, p_y, p_theta, o_x,o_y)"
   ]
  },
  {
   "cell_type": "code",
   "execution_count": 7,
   "metadata": {
    "collapsed": true
   },
   "outputs": [],
   "source": [
    "sigma_x = 0.3\n",
    "sigma_y = 0.3\n",
    "def bivariate_gaussian(x, y, mu_x, mu_y):\n",
    "    c1 = 1.0/(2.0*math.pi*sigma_x*sigma_y)\n",
    "    c2 = ((x-mu_x) **2)/ (sigma_x ** 2)\n",
    "    c3 = ((y-mu_y) **2)/ (sigma_y ** 2)\n",
    "    return c1*math.exp(-0.5*(c2+c3))"
   ]
  },
  {
   "cell_type": "code",
   "execution_count": 12,
   "metadata": {},
   "outputs": [
    {
     "data": {
      "text/plain": [
       "'6.84e-03'"
      ]
     },
     "execution_count": 12,
     "metadata": {},
     "output_type": "execute_result"
    }
   ],
   "source": [
    "'%.2e' % bivariate_gaussian(6.0,3.0,5.0,3.0)"
   ]
  },
  {
   "cell_type": "code",
   "execution_count": 9,
   "metadata": {},
   "outputs": [
    {
     "data": {
      "text/plain": [
       "'6.84e-03'"
      ]
     },
     "execution_count": 9,
     "metadata": {},
     "output_type": "execute_result"
    }
   ],
   "source": [
    "'%.2e' % bivariate_gaussian(2.0,2.0,2.0,1.0)"
   ]
  },
  {
   "cell_type": "code",
   "execution_count": 10,
   "metadata": {},
   "outputs": [
    {
     "data": {
      "text/plain": [
       "'9.83e-49'"
      ]
     },
     "execution_count": 10,
     "metadata": {},
     "output_type": "execute_result"
    }
   ],
   "source": [
    "'%.2e' % bivariate_gaussian(0,5,4.0,7.0)"
   ]
  },
  {
   "cell_type": "code",
   "execution_count": 14,
   "metadata": {},
   "outputs": [
    {
     "data": {
      "text/plain": [
       "(7.594809397235027, 10.955016067125232)"
      ]
     },
     "execution_count": 14,
     "metadata": {},
     "output_type": "execute_result"
    }
   ],
   "source": [
    "# project test\n",
    "p_x=5.5346584578046487\n",
    "p_y=5.7843376928809613\n",
    "p_theta=0.029948111036470278\n",
    "transform_observation(p_x, p_y, p_theta, 2.2140560483532132,5.1066713775084249)"
   ]
  },
  {
   "cell_type": "code",
   "execution_count": null,
   "metadata": {
    "collapsed": true
   },
   "outputs": [],
   "source": []
  }
 ],
 "metadata": {
  "kernelspec": {
   "display_name": "Python 3",
   "language": "python",
   "name": "python3"
  },
  "language_info": {
   "codemirror_mode": {
    "name": "ipython",
    "version": 3
   },
   "file_extension": ".py",
   "mimetype": "text/x-python",
   "name": "python",
   "nbconvert_exporter": "python",
   "pygments_lexer": "ipython3",
   "version": "3.6.1"
  }
 },
 "nbformat": 4,
 "nbformat_minor": 2
}
