{
 "cells": [
  {
   "cell_type": "code",
   "execution_count": 42,
   "metadata": {
    "collapsed": true
   },
   "outputs": [],
   "source": [
    "import pandas as pd\n",
    "import math\n",
    "import numpy as np\n",
    "import matplotlib.pyplot as plt\n",
    "from ipywidgets import interact, interactive, fixed\n",
    "%matplotlib inline\n",
    "plt.rcParams[\"figure.figsize\"] = [24, 16]"
   ]
  },
  {
   "cell_type": "code",
   "execution_count": 43,
   "metadata": {
    "collapsed": true
   },
   "outputs": [],
   "source": [
    "with open ('../data/map_data.txt') as f:\n",
    "    map_df = pd.read_table(f, sep='\\t', header=None, names=['x_f','y_f','id'], lineterminator='\\n')\n",
    "\n",
    "with open ('../data/gt_data.txt') as f:\n",
    "    gt_df = pd.read_table(f, sep=' ', header=None, names=['x','y','theta'], lineterminator='\\n')"
   ]
  },
  {
   "cell_type": "code",
   "execution_count": 45,
   "metadata": {
    "collapsed": true
   },
   "outputs": [],
   "source": [
    "def transform_observation(p_x, p_y, p_theta, o_x, o_y):\n",
    "    #(o_y, o_x) = (o_x, o_y)\n",
    "    x = o_x * math.cos(p_theta) - o_y * math.sin(p_theta) + p_x\n",
    "    y = o_x * math.sin(p_theta) + o_y * math.cos(p_theta) + p_y\n",
    "    return (x,y)"
   ]
  },
  {
   "cell_type": "code",
   "execution_count": 55,
   "metadata": {},
   "outputs": [
    {
     "data": {
      "application/vnd.jupyter.widget-view+json": {
       "model_id": "50313cb68f31403e8138ad21c304f67a"
      }
     },
     "metadata": {},
     "output_type": "display_data"
    }
   ],
   "source": [
    "@interact\n",
    "def show_decorated_map(step:(0,2444)=0):\n",
    "    plt.figure()\n",
    "    ax1=map_df.plot(kind='scatter', x='x_f', y='y_f', label='landmarks')\n",
    "    \n",
    "    gt_pos = gt_df.iloc[step]\n",
    "    ax1.plot(gt_pos.x, gt_pos.y, 'ro',  markersize='7', label='ground truth')\n",
    "    \n",
    "    with open ('../output/particles'+str(step)+'.txt') as f:\n",
    "        p_df = pd.read_table(f, sep=' ', header=None, names=['x','y','theta'], lineterminator='\\n')\n",
    "    p_df.plot(kind='scatter', x='x', y='y', color='m', ax= ax1, label='particles')\n",
    "    \n",
    "    if step > 0:\n",
    "        with open ('../data/observation/observations_%06d.txt' % step) as f:\n",
    "            obs_df = pd.read_table(f, sep=' ', header=None, names=['x','y','theta'], lineterminator='\\n')\n",
    "            obs_df['tx'] = transform_observation(gt_pos.x, gt_pos.y, gt_pos.theta, obs_df['x'], obs_df['y'])[0]\n",
    "            obs_df['ty'] = transform_observation(gt_pos.x, gt_pos.y, gt_pos.theta, obs_df['x'], obs_df['y'])[1]\n",
    "            obs_df.plot(kind='scatter', x='tx', y='ty', marker=\"o\", color='C2', ax= ax1, label='observations')\n",
    "\n",
    "    plt.legend(loc='best')\n",
    "    plt.show()"
   ]
  },
  {
   "cell_type": "code",
   "execution_count": null,
   "metadata": {
    "collapsed": true
   },
   "outputs": [],
   "source": []
  }
 ],
 "metadata": {
  "kernelspec": {
   "display_name": "Python 3",
   "language": "python",
   "name": "python3"
  },
  "language_info": {
   "codemirror_mode": {
    "name": "ipython",
    "version": 3
   },
   "file_extension": ".py",
   "mimetype": "text/x-python",
   "name": "python",
   "nbconvert_exporter": "python",
   "pygments_lexer": "ipython3",
   "version": "3.6.1"
  }
 },
 "nbformat": 4,
 "nbformat_minor": 2
}
